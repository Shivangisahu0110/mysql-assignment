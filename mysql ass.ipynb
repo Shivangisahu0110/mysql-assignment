{
 "cells": [
  {
   "cell_type": "markdown",
   "id": "43a42616-c5ed-4ea9-9a74-4dfc73fb6eae",
   "metadata": {},
   "source": [
    "Q1. What is a database? Differentiate between SQL and NoSQL databases."
   ]
  },
  {
   "cell_type": "markdown",
   "id": "195d3b41-f8fe-40c7-bcfb-709481cbf835",
   "metadata": {},
   "source": [
    "A database is a structured collection of data that is organized and stored in a way that allows efficient retrieval, management, and manipulation of that data. Databases are used to store various types of information, ranging from simple lists to complex data structures, and are a fundamental component of many software applications.\n",
    "\n",
    "SQL (Structured Query Language) and NoSQL (Not Only SQL) are two broad categories of database management systems, each with its own characteristics and use cases:\n",
    "\n",
    "SQL Databases:\n",
    "SQL databases are relational databases that use structured query language (SQL) to define, manage, and manipulate data. These databases store data in tables with rows and columns, and the relationships between different tables are established through keys (usually primary and foreign keys).\n",
    "\n",
    "Key Characteristics:\n",
    "\n",
    "Schema: SQL databases have a fixed schema that defines the structure of the data before data entry.\n",
    "\n",
    "Examples: MySQL, PostgreSQL, Oracle, Microsoft SQL Server.\n",
    "\n",
    "\n",
    "NoSQL Databases:\n",
    "NoSQL databases are a diverse group of databases that do not rely on a fixed schema and are designed to handle large amounts of unstructured or semi-structured data. They offer high scalability and performance, making them suitable for applications with rapidly changing requirements and large volumes of data.\n",
    "\n",
    "Key Characteristics:\n",
    "\n",
    "Schema : NoSQL databases allow for dynamic schema changes, making it easier to adapt to evolving data needs.\n",
    "Scalability: These databases are designed for horizontal scalability, allowing them to handle massive amounts of data and high traffic loads.\n",
    "\n",
    "Types: There are several types of NoSQL databases, including document stores, key-value stores, column-family stores, and graph databases.\n",
    "Examples: MongoDB (document store), Cassandra (column-family store), Redis (key-value store), Neo4j (graph database).\n",
    "\n",
    "\n",
    "\n",
    "\n"
   ]
  },
  {
   "cell_type": "markdown",
   "id": "7d7def26-7d8c-42e5-a1aa-133aefb67fde",
   "metadata": {},
   "source": [
    "Q2 -What is DDL? Explain why CREATE, DROP, ALTER, and TRUNCATE are used with an example."
   ]
  },
  {
   "cell_type": "markdown",
   "id": "373efda9-9217-4f28-af51-1a16dba170a9",
   "metadata": {},
   "source": [
    "DDL stands for \"Data Definition Language,\" which is a subset of SQL (Structured Query Language) used for defining and managing the structure of a database and its objects, such as tables, indexes, and constraints. DDL statements are used to create, modify, or delete database objects and their characteristics."
   ]
  },
  {
   "cell_type": "markdown",
   "id": "c4674952-9a48-498c-8490-5de737787785",
   "metadata": {},
   "source": [
    "CREATE:\n",
    "The CREATE statement is used to create new database objects, such as tables, indexes, and views. It defines the structure and properties of the object being created.\n",
    "\n",
    "Example: Creating a new table named \"Students\" with columns for Student information."
   ]
  },
  {
   "cell_type": "code",
   "execution_count": null,
   "id": "10444aac-6716-4819-9bff-3ca27fb3179a",
   "metadata": {},
   "outputs": [],
   "source": [
    "CREATE TABLE Students(\n",
    "    RollNo INT AUTO_INCREMENT PRIMARY KEY,\n",
    "    Name VARCHAR(50),\n",
    "    CourseName VARCHAR(50),\n",
    "    DATEOfJoining DATETIME\n",
    ");"
   ]
  },
  {
   "cell_type": "markdown",
   "id": "98d27ad8-d0b7-4173-91b7-40ef1c50ad8c",
   "metadata": {},
   "source": [
    "DROP:\n",
    "The DROP statement is used to delete existing database objects, such as tables, indexes, or views. This action permanently removes the object and its associated data.\n",
    "\n",
    "Example: Dropping the \"Employees\" table to remove it from the database."
   ]
  },
  {
   "cell_type": "code",
   "execution_count": null,
   "id": "3a2b9d3d-94ed-4cf6-9447-e455b7662468",
   "metadata": {},
   "outputs": [],
   "source": [
    "DROP Table Employees;"
   ]
  },
  {
   "cell_type": "markdown",
   "id": "9794a6bb-3001-4437-9158-94f4a81bb998",
   "metadata": {},
   "source": [
    "ALTER:\n",
    "The ALTER statement is used to modify the structure of an existing database object, such as adding, modifying, or dropping columns in a table\n",
    "\n",
    "\n",
    "Example: Altering \"FirstName\" named with \"Name\" to the \"Employees\" table."
   ]
  },
  {
   "cell_type": "code",
   "execution_count": null,
   "id": "6d0f6d93-3a51-45ab-9a1d-ce14cf5e3273",
   "metadata": {},
   "outputs": [],
   "source": [
    "ALTER TABLE Employees\n",
    "    CHANGE FirstName Name VARCHAR(50)\n"
   ]
  },
  {
   "cell_type": "markdown",
   "id": "b1970a6a-56db-492a-82f2-9862726e7ad6",
   "metadata": {},
   "source": [
    "TRUNCATE:\n",
    "The TRUNCATE statement is used to remove all rows from a table quickly. It is more efficient than using the DELETE statement to remove all rows because it deallocates the space used by the data without logging individual row deletions.\n",
    "\n",
    "\n",
    "Example -  Truncating the data in the \"Students\" table."
   ]
  },
  {
   "cell_type": "code",
   "execution_count": null,
   "id": "3a418653-6201-4738-82e2-763b94ebf63e",
   "metadata": {},
   "outputs": [],
   "source": [
    "TRUNCATE TABLE Students;"
   ]
  },
  {
   "cell_type": "markdown",
   "id": "34eeb3ea-6d07-426f-be6d-49c86bbf2a83",
   "metadata": {},
   "source": [
    "Q3. What is DML? Explain INSERT, UPDATE, and DELETE with an example."
   ]
  },
  {
   "cell_type": "markdown",
   "id": "e2aff7d8-e83c-48ca-86bf-8d5b1b662a84",
   "metadata": {},
   "source": [
    "DML stands for \"Data Manipulation Language,\" which is a subset of SQL (Structured Query Language) used for manipulating data stored in a database. DML statements are used to perform operations such as inserting, updating, and deleting data within the database tables"
   ]
  },
  {
   "cell_type": "markdown",
   "id": "cae57e46-05e9-4ca6-ad69-3076ca8a5d39",
   "metadata": {},
   "source": [
    "INSERT:\n",
    "The INSERT statement is used to add new rows of data into a table. It specifies the table name and the values to be inserted into the columns.\n",
    "\n",
    "Example - Inserting a new Student record into the \"Students\" table."
   ]
  },
  {
   "cell_type": "code",
   "execution_count": null,
   "id": "15b1d02d-1456-4a16-92e8-b7cd31e867ef",
   "metadata": {},
   "outputs": [],
   "source": [
    "INSERT INTO Students VALUES (2,\"Harsh\",\"Python\",\"2022-12-06 05:52:23\");"
   ]
  },
  {
   "cell_type": "markdown",
   "id": "0b9d9daf-152c-47a1-af57-2994fbe55886",
   "metadata": {},
   "source": [
    "UPDATE:\n",
    "The UPDATE statement is used to modify existing records in a table. It specifies the table name, the columns to be updated, and the new values.\n",
    "\n",
    "\n",
    "Example: Updating the Name of an Student with RollNO 2 in the \"Students\" table."
   ]
  },
  {
   "cell_type": "code",
   "execution_count": null,
   "id": "5f80bd7e-7844-4b0d-94e4-2fb8013c8f8a",
   "metadata": {},
   "outputs": [],
   "source": [
    "UPDATE Students SET Name = \"Anmol\"  WHERE RollNo = 2;"
   ]
  },
  {
   "cell_type": "markdown",
   "id": "64758286-3b06-40e0-89d8-3d24ba8d07a8",
   "metadata": {},
   "source": [
    "DELETE:\n",
    "The DELETE statement is used to remove rows from a table based on specified conditions. It specifies the table name and the conditions that must be met for rows to be deleted.\n",
    "Example: Deleting an Student record from the \"Students\" table with RollNo 2."
   ]
  },
  {
   "cell_type": "code",
   "execution_count": null,
   "id": "1894173f-6cf1-42e6-8af1-cb44f35c0fce",
   "metadata": {},
   "outputs": [],
   "source": [
    "DELETE FROM `Students` WHERE `RollNo` = 2;"
   ]
  },
  {
   "cell_type": "markdown",
   "id": "6fb9db62-1cc4-4d86-af94-6a5c83d09adb",
   "metadata": {},
   "source": [
    "Q4. What is DQL? Explain SELECT with an example."
   ]
  },
  {
   "cell_type": "markdown",
   "id": "1c9d6fd9-b72c-426f-bb2e-9e33b1f88ccc",
   "metadata": {},
   "source": [
    "DQL stands for \"Data Query Language,\" which is a subset of SQL (Structured Query Language) used for retrieving data from a database. DQL statements are primarily focused on querying the database to retrieve specific information based on specified criteria. The most common DQL statement is the SELECT statement, which is used to retrieve data from one or more tables."
   ]
  },
  {
   "cell_type": "markdown",
   "id": "8d4d7892-58f9-40f0-8397-4e0bb1245e84",
   "metadata": {},
   "source": [
    "SELECT:\n",
    "The SELECT statement is used to retrieve data from one or more tables in a database. It specifies the columns to be retrieved and the table(s) from which the data should be retrieved. It can also include various clauses to filter, sort, and manipulate the data.\n",
    "\n",
    "Example - selecting all data from Students table"
   ]
  },
  {
   "cell_type": "code",
   "execution_count": null,
   "id": "7870f16b-74b0-4590-8d34-d560e54cb504",
   "metadata": {},
   "outputs": [],
   "source": [
    "select * from Students;"
   ]
  },
  {
   "cell_type": "markdown",
   "id": "f03b7de2-f63d-487b-b397-28233dd0a225",
   "metadata": {},
   "source": [
    "Additionally, the SELECT statement can include various other clauses such as:\n",
    "\n",
    "ORDER BY: Sorts the result set based on specified columns and sort orders.\n",
    "GROUP BY: Groups rows with identical values in specified columns into summary rows.\n",
    "HAVING: Filters the result of a GROUP BY operation based on specified conditions.\n",
    "DISTINCT: Removes duplicate rows from the result set.\n",
    "Aggregate functions like SUM, AVG, COUNT, MIN, and MAX: Perform calculations on selected columns."
   ]
  },
  {
   "cell_type": "markdown",
   "id": "bebb33d3-c19a-4db2-8d71-8709988693f8",
   "metadata": {},
   "source": [
    "Q5. Explain Primary Key and Foreign Key."
   ]
  },
  {
   "cell_type": "markdown",
   "id": "8d6f3604-6adb-45f8-9720-8a2f0ac2017b",
   "metadata": {},
   "source": [
    "\n",
    "Primary Key:\n",
    "A primary key is a column or a set of columns in a database table that uniquely identifies each row or record in that table. It serves as a unique identifier for each record and ensures that no two records have the same primary key value. Primary keys are used to enforce data integrity, facilitate efficient data retrieval, and establish relationships between tables.\n",
    "\n",
    "Each table in a relational database should have a primary key.\n",
    "The values of the primary key must be unique and not null.\n",
    "\n",
    "Example:\n",
    "Consider a \"Students\" table with columns StudentID, FirstName, LastName, and DateOfBirth. If StudentID is chosen as the primary key, each student will have a unique StudentID value. No two students can share the same StudentID."
   ]
  },
  {
   "cell_type": "markdown",
   "id": "fe9d19f3-e22f-4694-a83c-f7f9fac37193",
   "metadata": {},
   "source": [
    "Foreign Key:\n",
    "A foreign key is a column or a set of columns in a database table that establishes a link between data in two tables. It creates a relationship between the data in one table (child table) and the data in another table (parent table). The foreign key in the child table references the primary key in the parent table, creating a connection between the two tables.\n",
    "\n",
    "Foreign keys are used to establish relationships between tables in a relational database.\n",
    "They maintain referential integrity by ensuring that the values in the foreign key column(s) of the child table correspond to values in the primary key column(s) of the parent table.\n",
    "\n",
    "\n",
    "Example:\n",
    "Continuing with the \"Students\" example, let's say we have a separate \"Courses\" table with columns CourseID, CourseName, and Instructor. To establish a relationship between the \"Students\" and \"Courses\" tables, we can add a foreign key column StudentID in the \"Courses\" table that references the StudentID primary key in the \"Students\" table. This would allow us to track which students are enrolled in which courses."
   ]
  },
  {
   "cell_type": "markdown",
   "id": "3d99df9f-21b9-4ad0-a347-694608ebd8f0",
   "metadata": {},
   "source": [
    "Q6. Write a python code to connect MySQL to python. Explain the cursor() and execute() method."
   ]
  },
  {
   "cell_type": "markdown",
   "id": "67e57190-021f-407c-9cea-3dfaaa1071a1",
   "metadata": {},
   "source": [
    "\n",
    "To connect Python to MySQL, you'll need to use a library like mysql-connector-python. This library provides the necessary tools to establish a connection and interact with a MySQL database from your Python code."
   ]
  },
  {
   "cell_type": "code",
   "execution_count": null,
   "id": "28f0d06b-28d3-477e-a243-631fa03afb3e",
   "metadata": {},
   "outputs": [],
   "source": [
    "import mysql.connector\n",
    "connection = mysql.connector.connect(\n",
    "  host = \"localhost\",\n",
    "  user = \"abc\",\n",
    "  password =\"password\"\n",
    ")\n",
    "mycursor = connection.cursor()\n",
    "mycursor.execute(\"select * from Pwskills.Students\")\n",
    "for i in mycursor.fetchall():\n",
    "  print(i)\n",
    "connection.close\n",
    "\n"
   ]
  },
  {
   "cell_type": "markdown",
   "id": "dc485910-af64-4207-a591-4bb8fe44a0bf",
   "metadata": {},
   "source": [
    "cursor(): The cursor() method creates a cursor object that is used to execute SQL queries and fetch results from the database.\n",
    "\n",
    "execute(query): The execute() method is used to execute an SQL query. You pass the query string as an argument. In this example, we're executing a simple SELECT query to retrieve all records from the \"Students\" table."
   ]
  },
  {
   "cell_type": "markdown",
   "id": "a2fd7ad6-a635-408c-94d7-74a205ae9a25",
   "metadata": {},
   "source": [
    "Q7. Give the order of execution of SQL clauses in an SQL query."
   ]
  },
  {
   "cell_type": "markdown",
   "id": "a20efb55-776e-4cc9-b57a-2b0f0726f5df",
   "metadata": {},
   "source": [
    "\n",
    "The order of execution of SQL clauses in an SQL query generally follows these main steps:\n",
    "\n",
    "FROM: The FROM clause specifies the tables involved in the query. It defines the source tables from which the data will be retrieved.\n",
    "\n",
    "JOIN: If applicable, the JOIN clauses are used to combine data from multiple tables based on specified conditions.\n",
    "\n",
    "WHERE: The WHERE clause filters the rows based on specified conditions. It narrows down the data retrieved from the tables.\n",
    "\n",
    "GROUP BY: If applicable, the GROUP BY clause is used to group rows with similar values in specified columns. This is often used with aggregate functions like SUM, COUNT, etc.\n",
    "\n",
    "HAVING: The HAVING clause filters the grouped rows based on specified conditions. It acts similar to the WHERE clause but operates on grouped results.\n",
    "\n",
    "SELECT: The SELECT clause specifies the columns to be retrieved from the tables. It also calculates any expressions or transformations on the selected columns.\n",
    "\n",
    "DISTINCT: If applicable, the DISTINCT keyword eliminates duplicate rows from the result set.\n",
    "\n",
    "ORDER BY: The ORDER BY clause is used to sort the result set based on specified columns and sort orders.\n",
    "\n",
    "LIMIT/OFFSET: If supported by the database system, the LIMIT and OFFSET clauses restrict the number of rows returned and allow for pagination.\n",
    "\n",
    "It's important to note that not all clauses are mandatory in every SQL query, and their usage depends on the specific requirements of the query. The order of execution ensures that the data is filtered, combined, and transformed in a logical sequence to produce the desired result set.\n"
   ]
  },
  {
   "cell_type": "code",
   "execution_count": null,
   "id": "60811cec-0f24-4261-9c4f-0572cc7bd7fe",
   "metadata": {},
   "outputs": [],
   "source": []
  }
 ],
 "metadata": {
  "kernelspec": {
   "display_name": "Python 3 (ipykernel)",
   "language": "python",
   "name": "python3"
  },
  "language_info": {
   "codemirror_mode": {
    "name": "ipython",
    "version": 3
   },
   "file_extension": ".py",
   "mimetype": "text/x-python",
   "name": "python",
   "nbconvert_exporter": "python",
   "pygments_lexer": "ipython3",
   "version": "3.10.8"
  }
 },
 "nbformat": 4,
 "nbformat_minor": 5
}
